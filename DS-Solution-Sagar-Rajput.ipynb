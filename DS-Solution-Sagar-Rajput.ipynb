{
 "cells": [
  {
   "cell_type": "code",
   "execution_count": 1,
   "id": "eb9b656e",
   "metadata": {},
   "outputs": [],
   "source": [
    "import xml.etree.ElementTree as ET\n",
    "import pandas as pd\n",
    "import re\n",
    "\n",
    "#Parse xml tree\n",
    "tree = ET.parse(r\"C:\\Users\\user\\Desktop\\Proium\\Coding_data\\customer1129550_loan1131339_crif_report.xml\")\n",
    "root = tree.getroot()\n",
    "\n"
   ]
  },
  {
   "cell_type": "code",
   "execution_count": 2,
   "id": "f66e0da1",
   "metadata": {},
   "outputs": [],
   "source": [
    "def CreateDF(root):\n",
    "    \"\"\"\n",
    "    Function that creates DataFrame with Account Type and Combined payment history.\n",
    "    param root: root of tree\n",
    "    var loanDetails: list with Acc Type and payment history for single iter\n",
    "    var trade_paymentHistory:  list of loanDetails for all iter\n",
    "    returns trade_paymentHistory_DF: final dataframe\n",
    "    \"\"\"\n",
    "    \n",
    "    loanDetails = []\n",
    "    trade_paymentHistory = []\n",
    "\n",
    "    for element in root.iter('LOAN-DETAILS'):\n",
    "\n",
    "        trade = element.find('ACCT-TYPE').text\n",
    "        paymentHistory = element.find('COMBINED-PAYMENT-HISTORY').text\n",
    "        loanDetails = [trade, paymentHistory]\n",
    "        trade_paymentHistory.append(loanDetails)\n",
    "\n",
    "    trade_paymentHistory_DF = pd.DataFrame(trade_paymentHistory, columns=['ACCT-TYPE', 'COMBINED-PAYMENT-HISTORY'])\n",
    "\n",
    "    return(trade_paymentHistory_DF)\n",
    "\n"
   ]
  },
  {
   "cell_type": "code",
   "execution_count": 3,
   "id": "328069a2",
   "metadata": {},
   "outputs": [],
   "source": [
    "def GenerateDPDList(string):\n",
    "    \"\"\"\n",
    "    Method that takes payment history as parameter and extracts DPD from each month and returns them as list \n",
    "    var regex : generates str between \",\" and \"/\". this is date\n",
    "    returns match: list of all regex\n",
    "    \"\"\"\n",
    "    \n",
    "    regex = '(?<=\\,)(.*?)(?=\\/)'\n",
    "    match = re.findall(regex, string)\n",
    "    #print(match, len(match))\n",
    "    \n",
    "    return(match)\n",
    "\n",
    "def FindDPD(lst):\n",
    "    \"\"\"\n",
    "    Method that takes lits from GenerateDPDList and returns list 30+DPD \n",
    "    \"\"\"\n",
    "    l = []\n",
    "    for elm in lst:\n",
    "        if elm not in ['DDD', 'XXX', 'STD', '000']: # ignore strings and 000s\n",
    "            #print(elm)\n",
    "            if int(elm) >30: #check for >30\n",
    "                l.append(int(elm))\n",
    "    return(l)\n",
    "\n",
    "#a= FindDPD(GenerateDPDList([]))\n",
    "#print(FindDPD(GenerateDPDList([])), len(a))"
   ]
  },
  {
   "cell_type": "code",
   "execution_count": 4,
   "id": "24cb763d",
   "metadata": {},
   "outputs": [],
   "source": [
    "#1) What percentage of trades are with 30+ DPD (more than 30 days past due) among all the trades available?\n",
    "\n",
    "df = CreateDF(root) #df is DataFrame with Account Type and Combined payment history\n",
    "#print(df)\n",
    "\n",
    "dpdMonths = []\n",
    "totalMonth = []\n",
    "\n",
    "for i in range(len(df)):\n",
    "    \n",
    "    elm = df.loc[i][1]\n",
    "    if elm is None:\n",
    "        totalMonth.append(0)\n",
    "        dpdMonths.append(0)\n",
    "    \n",
    "    if elm is not None:\n",
    "        #print(elm)\n",
    "        tl = GenerateDPDList(elm) #tl is list of dpd for each trades payment history \n",
    "        #print(tl, len(tl))\n",
    "        totalMonth.append(len(tl)) #list of total months for all trades. logic behind this is there will be months equal to all strings between \",\" and \"/\". that is len of list.\n",
    "        dpd = FindDPD(tl) #list of 30+dpd\n",
    "        #print(dpd, len(dpd))\n",
    "        dpdMonths.append(len(dpd)) #list of 30+dpd months\n",
    "    \n",
    "df['Total months of Loan tenure'] = totalMonth\n",
    "df['number of dpd occurance'] = dpdMonths\n",
    "\n",
    "#print(df)\n",
    "\n",
    "DF = df.groupby('ACCT-TYPE').agg({'number of dpd occurance': 'sum', 'Total months of Loan tenure' : 'sum'}) # summarise no of month data(total months, 30+dpd months) with trade(loan type)\n",
    "#print(DF)\n",
    "DF['Percentage'] = DF['number of dpd occurance']*100/DF['Total months of Loan tenure']\n"
   ]
  },
  {
   "cell_type": "code",
   "execution_count": 5,
   "id": "978003f7",
   "metadata": {
    "scrolled": true
   },
   "outputs": [
    {
     "name": "stdout",
     "output_type": "stream",
     "text": [
      "795601\n"
     ]
    }
   ],
   "source": [
    "def FindSumOFAllDispersedLoanAmount(root):\n",
    "    \"\"\"\n",
    "    Function takes root of tree as parameter and returns sum of disbursed amount to a customer throught their credit lifecycle.     \n",
    "    \"\"\"\n",
    "    \n",
    "    Sum = 0\n",
    "    for time in root.iter('DISBURSED-AMT'):\n",
    "        Sum += int(time.text.replace(',',''))\n",
    "    return(Sum)\n",
    "\n",
    "    #for time in root.iter('SCORE-VALUE'):\n",
    "    #   print(time.text)\n",
    "\n",
    "#2)What is the sum of total disbursed amount for all loans  for each customer?\n",
    "Sum = FindSumOFAllDispersedLoanAmount(root)\n",
    "print(Sum)"
   ]
  },
  {
   "cell_type": "code",
   "execution_count": 6,
   "id": "c980a97f",
   "metadata": {},
   "outputs": [],
   "source": [
    "DF2 = df.groupby('ACCT-TYPE').agg({'number of dpd occurance': 'max'})"
   ]
  },
  {
   "cell_type": "code",
   "execution_count": 7,
   "id": "06958d05",
   "metadata": {},
   "outputs": [],
   "source": [
    "writer = pd.ExcelWriter(r\"C:\\Users\\user\\Desktop\\Proium\\Coding_data\\customer1129550_loan1131339_crif_report.xlsx\", engine='xlsxwriter')\n",
    "DF.to_excel(writer, sheet_name='Q1')\n",
    "DF2.to_excel(writer, sheet_name='Q3')\n",
    "writer.save()\n"
   ]
  },
  {
   "cell_type": "code",
   "execution_count": 8,
   "id": "c2bbf23b",
   "metadata": {},
   "outputs": [
    {
     "data": {
      "text/html": [
       "<div>\n",
       "<style scoped>\n",
       "    .dataframe tbody tr th:only-of-type {\n",
       "        vertical-align: middle;\n",
       "    }\n",
       "\n",
       "    .dataframe tbody tr th {\n",
       "        vertical-align: top;\n",
       "    }\n",
       "\n",
       "    .dataframe thead th {\n",
       "        text-align: right;\n",
       "    }\n",
       "</style>\n",
       "<table border=\"1\" class=\"dataframe\">\n",
       "  <thead>\n",
       "    <tr style=\"text-align: right;\">\n",
       "      <th></th>\n",
       "      <th>number of dpd occurance</th>\n",
       "      <th>Total months of Loan tenure</th>\n",
       "      <th>Percentage</th>\n",
       "    </tr>\n",
       "    <tr>\n",
       "      <th>ACCT-TYPE</th>\n",
       "      <th></th>\n",
       "      <th></th>\n",
       "      <th></th>\n",
       "    </tr>\n",
       "  </thead>\n",
       "  <tbody>\n",
       "    <tr>\n",
       "      <th>Gold Loan</th>\n",
       "      <td>11</td>\n",
       "      <td>58</td>\n",
       "      <td>18.965517</td>\n",
       "    </tr>\n",
       "    <tr>\n",
       "      <th>Other</th>\n",
       "      <td>10</td>\n",
       "      <td>36</td>\n",
       "      <td>27.777778</td>\n",
       "    </tr>\n",
       "    <tr>\n",
       "      <th>Personal Loan</th>\n",
       "      <td>0</td>\n",
       "      <td>21</td>\n",
       "      <td>0.000000</td>\n",
       "    </tr>\n",
       "    <tr>\n",
       "      <th>Property Loan</th>\n",
       "      <td>0</td>\n",
       "      <td>3</td>\n",
       "      <td>0.000000</td>\n",
       "    </tr>\n",
       "  </tbody>\n",
       "</table>\n",
       "</div>"
      ],
      "text/plain": [
       "               number of dpd occurance  Total months of Loan tenure  \\\n",
       "ACCT-TYPE                                                             \n",
       "Gold Loan                           11                           58   \n",
       "Other                               10                           36   \n",
       "Personal Loan                        0                           21   \n",
       "Property Loan                        0                            3   \n",
       "\n",
       "               Percentage  \n",
       "ACCT-TYPE                  \n",
       "Gold Loan       18.965517  \n",
       "Other           27.777778  \n",
       "Personal Loan    0.000000  \n",
       "Property Loan    0.000000  "
      ]
     },
     "execution_count": 8,
     "metadata": {},
     "output_type": "execute_result"
    }
   ],
   "source": [
    "DF"
   ]
  },
  {
   "cell_type": "code",
   "execution_count": 9,
   "id": "08a1dfcf",
   "metadata": {},
   "outputs": [
    {
     "data": {
      "text/html": [
       "<div>\n",
       "<style scoped>\n",
       "    .dataframe tbody tr th:only-of-type {\n",
       "        vertical-align: middle;\n",
       "    }\n",
       "\n",
       "    .dataframe tbody tr th {\n",
       "        vertical-align: top;\n",
       "    }\n",
       "\n",
       "    .dataframe thead th {\n",
       "        text-align: right;\n",
       "    }\n",
       "</style>\n",
       "<table border=\"1\" class=\"dataframe\">\n",
       "  <thead>\n",
       "    <tr style=\"text-align: right;\">\n",
       "      <th></th>\n",
       "      <th>number of dpd occurance</th>\n",
       "    </tr>\n",
       "    <tr>\n",
       "      <th>ACCT-TYPE</th>\n",
       "      <th></th>\n",
       "    </tr>\n",
       "  </thead>\n",
       "  <tbody>\n",
       "    <tr>\n",
       "      <th>Gold Loan</th>\n",
       "      <td>4</td>\n",
       "    </tr>\n",
       "    <tr>\n",
       "      <th>Other</th>\n",
       "      <td>10</td>\n",
       "    </tr>\n",
       "    <tr>\n",
       "      <th>Personal Loan</th>\n",
       "      <td>0</td>\n",
       "    </tr>\n",
       "    <tr>\n",
       "      <th>Property Loan</th>\n",
       "      <td>0</td>\n",
       "    </tr>\n",
       "  </tbody>\n",
       "</table>\n",
       "</div>"
      ],
      "text/plain": [
       "               number of dpd occurance\n",
       "ACCT-TYPE                             \n",
       "Gold Loan                            4\n",
       "Other                               10\n",
       "Personal Loan                        0\n",
       "Property Loan                        0"
      ]
     },
     "execution_count": 9,
     "metadata": {},
     "output_type": "execute_result"
    }
   ],
   "source": [
    "DF2"
   ]
  },
  {
   "cell_type": "code",
   "execution_count": null,
   "id": "d706af51",
   "metadata": {},
   "outputs": [],
   "source": []
  }
 ],
 "metadata": {
  "kernelspec": {
   "display_name": "Python 3 (ipykernel)",
   "language": "python",
   "name": "python3"
  },
  "language_info": {
   "codemirror_mode": {
    "name": "ipython",
    "version": 3
   },
   "file_extension": ".py",
   "mimetype": "text/x-python",
   "name": "python",
   "nbconvert_exporter": "python",
   "pygments_lexer": "ipython3",
   "version": "3.9.12"
  }
 },
 "nbformat": 4,
 "nbformat_minor": 5
}
